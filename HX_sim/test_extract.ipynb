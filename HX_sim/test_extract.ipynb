{
 "cells": [
  {
   "cell_type": "code",
   "execution_count": 1,
   "metadata": {},
   "outputs": [],
   "source": [
    "import h5py\n",
    "import numpy as np"
   ]
  },
  {
   "cell_type": "code",
   "execution_count": 2,
   "metadata": {},
   "outputs": [],
   "source": [
    "def func(name, obj):\n",
    "    print(name)"
   ]
  },
  {
   "cell_type": "code",
   "execution_count": 3,
   "metadata": {},
   "outputs": [
    {
     "name": "stdout",
     "output_type": "stream",
     "text": [
      " data\n",
      "FlowSolution.N:1\n",
      "FlowSolution.N:1/VelocityMagnitude\n",
      "FlowSolution.N:1/VelocityMagnitude/ data\n",
      "GridCoordinates\n",
      "GridCoordinates/CoordinateX\n",
      "GridCoordinates/CoordinateX/ data\n",
      "GridCoordinates/CoordinateY\n",
      "GridCoordinates/CoordinateY/ data\n",
      "GridCoordinates/CoordinateZ\n",
      "GridCoordinates/CoordinateZ/ data\n",
      "ZoneIterativeData\n",
      "ZoneIterativeData/FlowSolutionPointers\n",
      "ZoneIterativeData/FlowSolutionPointers/ data\n",
      "ZoneType\n",
      "ZoneType/ data\n",
      "plane-1-Pg\n",
      "plane-1-Pg/ data\n",
      "plane-1-Pg/ElementConnectivity\n",
      "plane-1-Pg/ElementConnectivity/ data\n",
      "plane-1-Pg/ElementRange\n",
      "plane-1-Pg/ElementRange/ data\n",
      "plane-1-Pg/ElementStartOffset\n",
      "plane-1-Pg/ElementStartOffset/ data\n",
      "None\n"
     ]
    }
   ],
   "source": [
    "file_name = 'step1_plane1.cgns'\n",
    "with h5py.File(file_name) as f:\n",
    "    print(f['Base']['Zone'].visititems(func))\n",
    "    solution = f['Base']['Zone']['FlowSolution.N:1']['VelocityMagnitude'][' data'][:]\n",
    "    coord_x = f['Base']['Zone']['GridCoordinates']['CoordinateX'][' data'][:]\n",
    "    coord_y = f['Base']['Zone']['GridCoordinates']['CoordinateY'][' data'][:]\n",
    "    coord_z = f['Base']['Zone']['GridCoordinates']['CoordinateZ'][' data'][:]\n",
    "    connectivity = f['Base']['Zone']['plane-1-Pg']['ElementConnectivity'][' data'][:]"
   ]
  },
  {
   "cell_type": "code",
   "execution_count": 4,
   "metadata": {},
   "outputs": [
    {
     "name": "stdout",
     "output_type": "stream",
     "text": [
      "168462\n",
      "168462\n",
      "532679\n",
      "-0.2127000007838009\n",
      "0.439268006064534\n",
      "0.22663051540857052\n",
      "0.22663249444599012\n",
      "-0.4317500123903155\n",
      "0.20635000486224886\n"
     ]
    }
   ],
   "source": [
    "print(len(solution))\n",
    "print(len(coord_x))\n",
    "print(len(connectivity))\n",
    "\n",
    "print(min(coord_x))\n",
    "print(max(coord_x))\n",
    "print(min(coord_y))\n",
    "print(max(coord_y))\n",
    "print(min(coord_z))\n",
    "print(max(coord_z))\n",
    "\n",
    "# remove y axis"
   ]
  },
  {
   "cell_type": "code",
   "execution_count": 5,
   "metadata": {},
   "outputs": [],
   "source": [
    "def Intersection(x1, y1, x2, y2, x3, y3, x4, y4):\n",
    "    \"\"\"\n",
    "    Calculate if two lines intersect\n",
    "    \"\"\"\n",
    "    # line1\n",
    "    k1 = (y2 - y1) / (x2 - x1)\n",
    "    b1 = y1 - k1 * x1\n",
    "    # line2\n",
    "    k2 = (y4 - y3) / (x4 - x3)\n",
    "    b2 = y3 - k2 * x3\n",
    "    # if the two lines are parallel\n",
    "    if k1 == k2:\n",
    "        return False\n",
    "    else:\n",
    "        # the intersection point\n",
    "        x = (b2 - b1) / (k1 - k2)\n",
    "        y = k1 * x + b1\n",
    "        # if the intersection point is on the two lines\n",
    "        if (x1 <= x <= x2 or x2 <= x <= x1) and (x3 <= x <= x4 or x4 <= x <= x3):\n",
    "            return True\n",
    "        else:\n",
    "            return False\n",
    "\n",
    "\n",
    "def Intersection2D(line, rectangle):\n",
    "    '''\n",
    "    Calculate if the line intersects the rectangle\n",
    "    :param line: [[x1, y1], [x2, y2]]\n",
    "    :param rectangle: [[x1, y1], [x2, y2], [x3, y3], [x4, y4]]\n",
    "    '''\n",
    "    # line\n",
    "    x1 = line[0][0]\n",
    "    y1 = line[0][1]\n",
    "    x2 = line[1][0]\n",
    "    y2 = line[1][1]\n",
    "    # rectangle\n",
    "    x3 = rectangle[0][0]\n",
    "    y3 = rectangle[0][1]\n",
    "    x4 = rectangle[1][0]\n",
    "    y4 = rectangle[1][1]\n",
    "    x5 = rectangle[2][0]\n",
    "    y5 = rectangle[2][1]\n",
    "    x6 = rectangle[3][0]\n",
    "    y6 = rectangle[3][1]\n",
    "    # if the line intersects with any of the four edges of the rectangle, return True\n",
    "    if Intersection(x1, y1, x2, y2, x3, y3, x4, y4) or Intersection(x1, y1, x2, y2, x4, y4, x5, y5) or Intersection(x1,\n",
    "                                                                                                                  y1,\n",
    "                                                                                                                  x2,\n",
    "                                                                                                                  y2,\n",
    "                                                                                                                  x5,\n",
    "                                                                                                                  y5,\n",
    "                                                                                                                  x6,\n",
    "                                                                                                                  y6) or Intersection(\n",
    "            x1, y1, x2, y2, x6, y6, x3, y3):\n",
    "        return True\n",
    "    else:\n",
    "        return False\n",
    "\n"
   ]
  },
  {
   "cell_type": "code",
   "execution_count": 8,
   "metadata": {},
   "outputs": [
    {
     "name": "stderr",
     "output_type": "stream",
     "text": [
      "/tmp/ipykernel_1728405/940904905.py:44: UserWarning: Creating a tensor from a list of numpy.ndarrays is extremely slow. Please consider converting the list to a single numpy.ndarray with numpy.array() before converting to a tensor. (Triggered internally at /opt/conda/conda-bld/pytorch_1678411187366/work/torch/csrc/utils/tensor_new.cpp:245.)\n",
      "  edge_attr = torch.tensor(edge_attr, dtype=torch.float)\n"
     ]
    },
    {
     "data": {
      "image/png": "[encoded data removed]",
      "text/plain": [
       "<Figure size 640x480 with 1 Axes>"
      ]
     },
     "metadata": {},
     "output_type": "display_data"
    }
   ],
   "source": [
    "# construct connectivity matrix based on connectivity\n",
    "connectivity_list = []\n",
    "for i in range(len(connectivity)-1):\n",
    "    connectivity_list.append(np.array([connectivity[i], connectivity[i+1]]))\n",
    "    connectivity_list.append(np.array([connectivity[i+1], connectivity[i]]))\n",
    "\n",
    "connectivity_list = np.array(connectivity_list)\n",
    "\n",
    "import torch\n",
    "import torch_geometric as pyg\n",
    "from torch_geometric.data import Data\n",
    "import matplotlib.pyplot as plt\n",
    "from matplotlib.tri import Triangulation\n",
    "\n",
    "# construct edge_index\n",
    "edge_index = torch.tensor(connectivity_list, dtype=torch.long).t().contiguous()\n",
    "\n",
    "# data = Data(x=torch.tensor(solution, dtype=torch.float), edge_index=edge_index)\n",
    "# print(data.is_directed())\n",
    "\n",
    "# select points within the region of x = [-0.01, 0.4], z = [-0.01, 0.4]\n",
    "reduced_idx = (coord_x > -0.005) & (coord_x < 0.01) & (coord_z > -0.012) & (coord_z < 0.005)\n",
    "reduced_idx = np.where(reduced_idx)[0]\n",
    "solution_reduced = solution[reduced_idx].reshape(-1, 1)\n",
    "coord_x_reduced = coord_x[reduced_idx]\n",
    "coord_z_reduced = coord_z[reduced_idx]\n",
    "# pick connectivity containing the index of nodes in the reduced mesh\n",
    "connectivity_list_reduced = []\n",
    "for i in range(len(connectivity_list)):\n",
    "    if connectivity_list[i][0] in reduced_idx and connectivity_list[i][1] in reduced_idx:\n",
    "        connectivity_list_reduced.append([np.where(reduced_idx)[0] == connectivity_list[i][0], np.where(reduced_idx)[0] == connectivity_list[i][1]])\n",
    "\n",
    "connectivity_list_reduced = np.array(connectivity_list_reduced)\n",
    "edge_index_reduced = torch.tensor(connectivity_list_reduced, dtype=torch.long).t().contiguous()\n",
    "# compute edge attributes with format [x1, z1, x2, z2, length]\n",
    "edge_attr = []\n",
    "for i in range(len(connectivity_list_reduced)):\n",
    "    x1 = coord_x_reduced[np.where(reduced_idx)[0] == connectivity_list_reduced[i][0]-1]\n",
    "    z1 = coord_z_reduced[np.where(reduced_idx)[0] == connectivity_list_reduced[i][0]-1]\n",
    "    x2 = coord_x_reduced[np.where(reduced_idx)[0] == connectivity_list_reduced[i][1]-1]\n",
    "    z2 = coord_z_reduced[np.where(reduced_idx)[0] == connectivity_list_reduced[i][1]-1]\n",
    "    length = np.sqrt((x2 - x1)**2 + (z2 - z1)**2)\n",
    "    edge_attr.append([x1, z1, x2, z2, length])\n",
    "\n",
    "edge_attr = np.array(edge_attr)\n",
    "    \n",
    "edge_attr = torch.tensor(edge_attr, dtype=torch.float)\n",
    "\n",
    "data_reduced = Data(x=torch.tensor(solution_reduced, dtype=torch.float), edge_index=edge_index_reduced, edge_attr=edge_attr)\n",
    "\n",
    "# tri = Triangulation(coord_x_reduced, coord_z_reduced)\n",
    "# plt.tricontourf(tri, solution_reduced)\n",
    "# # plot a governing rectangle\n",
    "# square0 = plt.Rectangle((0.00365, -0.003), width=0.0003, height=0.003, fill=False)\n",
    "# square1 = plt.Rectangle((0.0011, -0.003), width=0.0003, height=0.003, fill=False)\n",
    "# square2 = plt.Rectangle((0.0062, -0.003), width=0.0003, height=0.003, fill=False)\n",
    "# square3 = plt.Rectangle((0.0087, -0.003), width=0.0003, height=0.003, fill=False)\n",
    "# square4 = plt.Rectangle((0.0024, -0.0061), width=0.0003, height=0.003, fill=False)\n",
    "# square5 = plt.Rectangle((0.0049, -0.0061), width=0.0003, height=0.003, fill=False)\n",
    "# square6 = plt.Rectangle((0.0075, -0.0061), width=0.0003, height=0.003, fill=False)\n",
    "# square7 = plt.Rectangle((0.00365, -0.0093), width=0.0003, height=0.003, fill=False)\n",
    "# square8 = plt.Rectangle((0.0062, -0.0093), width=0.0003, height=0.003, fill=False)\n",
    "# square9 = plt.Rectangle((0.0011, -0.0093), width=0.0003, height=0.003, fill=False)\n",
    "# square10 = plt.Rectangle((0.0087, -0.0093), width=0.0003, height=0.003, fill=False)\n",
    "# square11 = plt.Rectangle((0.0024, -0.0125), width=0.0003, height=0.003, fill=False)\n",
    "# square12 = plt.Rectangle((0.0049, -0.0125), width=0.0003, height=0.003, fill=False)\n",
    "# square13 = plt.Rectangle((0.0075, -0.0125), width=0.0003, height=0.003, fill=False)\n",
    "\n",
    "# plt.gca().add_patch(square0)\n",
    "# plt.gca().add_patch(square1)\n",
    "# plt.gca().add_patch(square2)\n",
    "# plt.gca().add_patch(square3)\n",
    "# plt.gca().add_patch(square4)\n",
    "# plt.gca().add_patch(square5)\n",
    "# plt.gca().add_patch(square6)\n",
    "# plt.gca().add_patch(square7)\n",
    "# plt.gca().add_patch(square8)\n",
    "# plt.gca().add_patch(square9)\n",
    "# plt.gca().add_patch(square10)\n",
    "# plt.gca().add_patch(square11)\n",
    "# plt.gca().add_patch(square12)\n",
    "# plt.gca().add_patch(square13)\n",
    "# plt.show()\n",
    "\n",
    "# # sample 2 every 5 points to form a coarser mesh \n",
    "# solution_reduced = solution_reduced[::3]\n",
    "# coord_x_reduced = coord_x_reduced[::3]\n",
    "# coord_z_reduced = coord_z_reduced[::3]\n",
    "# tri = Triangulation(coord_x_reduced, coord_z_reduced)\n",
    "# # plt.tricontourf(tri, solution_reduced)\n",
    "\n",
    "# # remove all the edges inside the rectangles from tri\n",
    "# triangles = tri.triangles\n",
    "# # use Intersection2D to determine if the edge is inside the rectangle, and remove it if it is\n",
    "# triangles_new = []\n",
    "# for i in range(len(triangles)):\n",
    "#     if Intersection2D([[coord_x_reduced[triangles[i][0]], coord_z_reduced[triangles[i][0]]], [coord_x_reduced[triangles[i][1]], coord_z_reduced[triangles[i][1]]]], [[0.00365, -0.003], [0.0011, -0.003], [0.0062, -0.003], [0.0087, -0.003]]) == False and Intersection2D([[coord_x_reduced[triangles[i][0]], coord_z_reduced[triangles[i][0]]], [coord_x_reduced[triangles[i][1]], coord_z_reduced[triangles[i][1]]]], [[0.0024, -0.0061], [0.0049, -0.0061], [0.0075, -0.0061], [0.00365, -0.0093]]) == False and Intersection2D([[coord_x_reduced[triangles[i][0]], coord_z_reduced[triangles[i][0]]], [coord_x_reduced[triangles[i][1]], coord_z_reduced[triangles[i][1]]]], [[0.0062, -0.0093], [0.0011, -0.0093], [0.0087, -0.0093], [0.0024, -0.0125]]) == False and Intersection2D([[coord_x_reduced[triangles[i][0]], coord_z_reduced[triangles[i][0]]], [coord_x_reduced[triangles[i][1]], coord_z_reduced[triangles[i][1]]]], [[0.0049, -0.0125], [0.0075, -0.0125], [0.00365, -0.003], [0.0011, -0.003]]) == False:\n",
    "#         triangles_new.append(triangles[i])\n",
    "\n"
   ]
  },
  {
   "cell_type": "code",
   "execution_count": 10,
   "metadata": {},
   "outputs": [
    {
     "ename": "ImportError",
     "evalue": "attempted relative import with no known parent package",
     "output_type": "error",
     "traceback": [
      "\u001b[0;31m---------------------------------------------------------------------------\u001b[0m",
      "\u001b[0;31mImportError\u001b[0m                               Traceback (most recent call last)",
      "Cell \u001b[0;32mIn[10], line 1\u001b[0m\n\u001b[0;32m----> 1\u001b[0m \u001b[38;5;28;01mfrom\u001b[39;00m \u001b[38;5;21;01m.\u001b[39;00m\u001b[38;5;21;01m.\u001b[39;00m\u001b[38;5;21;01mmodel\u001b[39;00m\u001b[38;5;21;01m.\u001b[39;00m\u001b[38;5;21;01mteecnet\u001b[39;00m \u001b[38;5;28;01mimport\u001b[39;00m TEECNet\n\u001b[1;32m      3\u001b[0m model \u001b[38;5;241m=\u001b[39m TEECNet(\u001b[38;5;241m1\u001b[39m, \u001b[38;5;241m32\u001b[39m, \u001b[38;5;241m1\u001b[39m, \u001b[38;5;241m3\u001b[39m, num_powers\u001b[38;5;241m=\u001b[39m\u001b[38;5;241m3\u001b[39m)\n\u001b[1;32m      4\u001b[0m model\u001b[38;5;241m.\u001b[39mload_state_dict(torch\u001b[38;5;241m.\u001b[39mload(\u001b[38;5;124m'\u001b[39m\u001b[38;5;124mcheckpoints/exp_1_megaflow/TEECNet/res_0_1/model_30.pt\u001b[39m\u001b[38;5;124m'\u001b[39m))\n",
      "\u001b[0;31mImportError\u001b[0m: attempted relative import with no known parent package"
     ]
    }
   ],
   "source": [
    "from ..model.teecnet import TEECNet\n",
    "\n",
    "model = TEECNet(1, 32, 1, 3, num_powers=3)\n",
    "model.load_state_dict(torch.load('checkpoints/exp_1_megaflow/TEECNet/res_0_1/model_30.pt'))\n",
    "model.eval()\n",
    "\n",
    "# predict the solution\n",
    "with torch.no_grad():\n",
    "    pred = model(data_reduced.x, data_reduced.edge_index)\n",
    "    "
   ]
  }
 ],
 "metadata": {
  "kernelspec": {
   "display_name": "fenicsproject",
   "language": "python",
   "name": "python3"
  },
  "language_info": {
   "codemirror_mode": {
    "name": "ipython",
    "version": 3
   },
   "file_extension": ".py",
   "mimetype": "text/x-python",
   "name": "python",
   "nbconvert_exporter": "python",
   "pygments_lexer": "ipython3",
   "version": "3.10.10"
  }
 },
 "nbformat": 4,
 "nbformat_minor": 2
}
